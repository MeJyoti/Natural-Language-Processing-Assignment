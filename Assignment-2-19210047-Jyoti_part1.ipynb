{
 "cells": [
  {
   "cell_type": "code",
   "execution_count": 0,
   "metadata": {
    "colab": {},
    "colab_type": "code",
    "id": "9e35nal42sVy"
   },
   "outputs": [],
   "source": [
    "import nltk\n",
    "import random\n",
    "import math\n",
    "import re\n",
    "import string\n",
    "from nltk.util import bigrams\n",
    "from nltk.util import ngrams\n",
    "from nltk import FreqDist\n",
    "from nltk.util import everygrams\n",
    "from nltk.lm import MLE\n",
    "from nltk.tokenize import sent_tokenize\n",
    "#nltk.download('punkt')\n",
    "from sklearn.model_selection import train_test_split"
   ]
  },
  {
   "cell_type": "code",
   "execution_count": 0,
   "metadata": {
    "colab": {},
    "colab_type": "code",
    "id": "JSh7gHTK2sV1"
   },
   "outputs": [],
   "source": [
    "#file reading\n",
    "f=open(\"trump.txt\",\"r\")\n",
    "content=f.read()"
   ]
  },
  {
   "cell_type": "code",
   "execution_count": 0,
   "metadata": {
    "colab": {},
    "colab_type": "code",
    "id": "N8uHvaMm2sV3"
   },
   "outputs": [],
   "source": [
    "#data preprocessing\n",
    "content=content.replace('\\n','')\n",
    "content=content.lower()"
   ]
  },
  {
   "cell_type": "code",
   "execution_count": 0,
   "metadata": {
    "colab": {},
    "colab_type": "code",
    "id": "FH_jaoYV2sV5"
   },
   "outputs": [],
   "source": [
    "#tokenization\n",
    "sentences=sent_tokenize(content)\n",
    "sentences=['<s> '+re.sub(r'[^\\w\\s]','',s)+' </s>' for s in sentences]"
   ]
  },
  {
   "cell_type": "code",
   "execution_count": 0,
   "metadata": {
    "colab": {},
    "colab_type": "code",
    "id": "3vk3WhkC2sV7"
   },
   "outputs": [],
   "source": [
    "#building a corpus\n",
    "random.shuffle(sentences)\n",
    "train_data=sentences[:math.ceil(0.8*len(sentences))]\n",
    "test_data=sentences[math.ceil(0.8*len(sentences)):]\n",
    "words=[]\n",
    "train_words=[]\n",
    "test_words=[]\n",
    "for i in sentences:\n",
    "    for j in i.split():\n",
    "        words.append(j)\n",
    "\n",
    "for i in train_data:\n",
    "    for j in i.split():\n",
    "        train_words.append(j)\n",
    "\n",
    "for i in test_data:\n",
    "    for j in i.split():\n",
    "        test_words.append(j)\n",
    "\n",
    "        "
   ]
  },
  {
   "cell_type": "code",
   "execution_count": 0,
   "metadata": {
    "colab": {},
    "colab_type": "code",
    "id": "XKO6lIIS2sV9"
   },
   "outputs": [],
   "source": [
    "#generating a unigram,bigram,trigram,quadgram\n",
    "unigrams=ngrams(train_words,1)\n",
    "bigrams=ngrams(train_words,2)\n",
    "trigrams=ngrams(train_words,3)\n",
    "quadgrams=ngrams(train_words,4)"
   ]
  },
  {
   "cell_type": "code",
   "execution_count": 0,
   "metadata": {
    "colab": {},
    "colab_type": "code",
    "id": "tuVDY9WY2sV_"
   },
   "outputs": [],
   "source": [
    "#creating a dictionary for unigrams,bigrams,trigrams,quadgrams\n",
    "def calc(ngrams,n):\n",
    "    freq=FreqDist(ngrams)\n",
    "    count={}\n",
    "    l=0\n",
    "    for k,v in freq.items():\n",
    "        #print(k,v)\n",
    "        s=\"\"\n",
    "        for i in range(n):\n",
    "           s=s+k[i]+\" \"\n",
    "        count[s]=v\n",
    "        l=l+v\n",
    "    return count"
   ]
  },
  {
   "cell_type": "code",
   "execution_count": 0,
   "metadata": {
    "colab": {},
    "colab_type": "code",
    "id": "8ET-oE9-2sWB"
   },
   "outputs": [],
   "source": [
    "unigramcount=calc(unigrams,1)\n",
    "bigramcount=calc(bigrams,2)\n",
    "trigramcount=calc(trigrams,3)\n",
    "quadgramcount=calc(quadgrams,4)"
   ]
  },
  {
   "cell_type": "code",
   "execution_count": 0,
   "metadata": {
    "colab": {},
    "colab_type": "code",
    "id": "orDjBew82sWD",
    "outputId": "ce3c80ac-b431-43f2-a89f-a999b00b8834"
   },
   "outputs": [
    {
     "name": "stdout",
     "output_type": "stream",
     "text": [
      "number of unigrams  149881\n",
      "number of bigrams  149880\n",
      "number of trigrams  149879\n",
      "number of quadgrams  149878\n"
     ]
    }
   ],
   "source": [
    "print(\"number of unigrams \",sum(unigramcount.values()))\n",
    "print(\"number of bigrams \",sum(bigramcount.values()))\n",
    "print(\"number of trigrams \",sum(trigramcount.values()))\n",
    "print(\"number of quadgrams \",sum(quadgramcount.values()))"
   ]
  },
  {
   "cell_type": "code",
   "execution_count": 0,
   "metadata": {
    "colab": {},
    "colab_type": "code",
    "id": "St_FXrmN2sWF"
   },
   "outputs": [],
   "source": [
    "#creating a dictionary which maintains a probability for n-grams\n",
    "def calc_prob(N,V,upper,n):\n",
    "    probdict={}\n",
    "    if n==1:\n",
    "        for w in upper:\n",
    "            probdict[w]=(upper.get(w,0.01)+1)*1.0/(N+V)\n",
    "    else:\n",
    "        for w in upper:\n",
    "            s=\" \".join(w.split()[:n-1])+\" \"\n",
    "            probdict[w]=(upper[w])*1.0/(N[s]+V)\n",
    "    return probdict"
   ]
  },
  {
   "cell_type": "code",
   "execution_count": 0,
   "metadata": {
    "colab": {},
    "colab_type": "code",
    "id": "UGXEwpfR2sWH"
   },
   "outputs": [],
   "source": [
    "unigram_prob=calc_prob(len(train_words),len(unigramcount),unigramcount,1)\n",
    "bigram_prob=calc_prob(unigramcount,len(unigramcount),bigramcount,2)\n",
    "trigram_prob=calc_prob(bigramcount,len(unigramcount),trigramcount,3)\n",
    "quadgram_prob=calc_prob(trigramcount,len(unigramcount),quadgramcount,4)"
   ]
  },
  {
   "cell_type": "code",
   "execution_count": 0,
   "metadata": {
    "colab": {},
    "colab_type": "code",
    "id": "3eaHBO0c2sWJ"
   },
   "outputs": [],
   "source": [
    "##function to calculate perplexity for n-grams\n",
    "def perplexity(test_token,upper,lower,n,N):\n",
    "    #test_token=test_token.split()\n",
    "    per=float(1.0)\n",
    "    if n==1:\n",
    "        for i in test_token:\n",
    "            prob=upper.get(i+\" \",0.00001)*1.0/lower\n",
    "            per=per* (prob**(1./N))\n",
    "    else:\n",
    "        for i in range(len(test_token)-n):\n",
    "            den=\" \".join(test_token[i:i+n-1])+\" \"\n",
    "            num=\" \".join(test_token[i:i+n])+\" \"\n",
    "            prob=upper.get(num,0.00001)*1.0/lower.get(den,0.00001)\n",
    "            per=per* (prob**(1./N))\n",
    "    return per"
   ]
  },
  {
   "cell_type": "code",
   "execution_count": 0,
   "metadata": {
    "colab": {},
    "colab_type": "code",
    "id": "TJLBJcjt2sWL",
    "outputId": "dad8d8ec-dfae-46d5-c825-098849238443"
   },
   "outputs": [
    {
     "name": "stdout",
     "output_type": "stream",
     "text": [
      "unigram  0.20632755575716172\n",
      "bigram  0.25028552471185506\n",
      "trigram  0.30442822132281905\n",
      "quadgram  0.4577999688102268\n"
     ]
    }
   ],
   "source": [
    "print(\"unigram \",perplexity(test_words,unigramcount,len(train_words),1,len(train_words)))\n",
    "print(\"bigram \", perplexity(test_words,bigramcount,unigramcount,2,len(train_words)))\n",
    "print(\"trigram \",perplexity(test_words,trigramcount,bigramcount,3,len(train_words)))\n",
    "print(\"quadgram \",perplexity(test_words,quadgramcount,trigramcount,4,len(train_words)))"
   ]
  },
  {
   "cell_type": "code",
   "execution_count": 0,
   "metadata": {
    "colab": {},
    "colab_type": "code",
    "id": "JLkUq8y12sWN"
   },
   "outputs": [],
   "source": [
    "#function to generate a random sentence using unigrams\n",
    "def unigram_generate(unigramcount,word):\n",
    "    for j in range(30):\n",
    "            d=random.random()\n",
    "            result=float(0.0)\n",
    "            for i in unigramcount.keys():\n",
    "                if i.strip()==\"<s>\":\n",
    "                    continue\n",
    "                result=result+unigramcount[i]\n",
    "                if result>=d:\n",
    "                    if i.strip()==\"</s>\":\n",
    "                        print('.',end=' ')\n",
    "                        return\n",
    "                    print(i.strip(),end=' ')\n",
    "                    break\n",
    "    \n",
    "        "
   ]
  },
  {
   "cell_type": "code",
   "execution_count": 0,
   "metadata": {
    "colab": {},
    "colab_type": "code",
    "id": "PLzZMdNp2sWP",
    "outputId": "860ce93f-2da7-4be8-be4c-5afa86824351"
   },
   "outputs": [
    {
     "name": "stdout",
     "output_type": "stream",
     "text": [
      "the deductions on the instruction korea want do wall has having poll you . saying get government no announced . . have ford but has very mexico and policy to to laws podiumtom hope going companies know finestso and know settled were from way build principals . eight . "
     ]
    }
   ],
   "source": [
    "for i in range(5):\n",
    "    unigram_generate(unigram_prob,'<s>')"
   ]
  },
  {
   "cell_type": "code",
   "execution_count": 0,
   "metadata": {
    "colab": {},
    "colab_type": "code",
    "id": "8eUwRVNQ2sWR"
   },
   "outputs": [],
   "source": [
    "#function to generate a random sentence using bigrams\n",
    "def bigram_generate(bigramprob,word):\n",
    "    for j in range(30):\n",
    "        d=random.random()\n",
    "        x=float(0.0)\n",
    "        for i in bigramprob.keys():\n",
    "            token=i.split()\n",
    "            if token[0]==word.strip():\n",
    "                x+=bigramprob[i]\n",
    "        if d>x:\n",
    "            d=x*d\n",
    "        result=float(0.0)\n",
    "        for i in bigramprob.keys():\n",
    "            token=i.split()\n",
    "            if token[1]=='<s>':\n",
    "                continue\n",
    "            if token[0]==word:\n",
    "                result+=bigramprob[i]\n",
    "                if result>=d:\n",
    "                    word=token[1]\n",
    "                    if token[1]=='</s>':\n",
    "                        print('.',end=' ')\n",
    "                        return\n",
    "                    print(token[1],end=' ')\n",
    "                    break\n",
    "                    \n",
    "        \n",
    "        \n",
    "    \n",
    "    "
   ]
  },
  {
   "cell_type": "code",
   "execution_count": 0,
   "metadata": {
    "colab": {},
    "colab_type": "code",
    "id": "k8TqEBR-2sWT",
    "outputId": "e8ece339-1250-4f93-f62a-cdc91490e75e"
   },
   "outputs": [
    {
     "name": "stdout",
     "output_type": "stream",
     "text": [
      "i guess . thats the job . i mean where im leading everything after another one of afghan parents who is that work all for political phenomenon . but millions of papers that . theyll be nice to stage with hillary clinton explained that when you know . "
     ]
    }
   ],
   "source": [
    "for i in range(5):\n",
    "    bigram_generate(bigram_prob,'<s>')"
   ]
  },
  {
   "cell_type": "code",
   "execution_count": 0,
   "metadata": {
    "colab": {},
    "colab_type": "code",
    "id": "kzaDUxHc2sWV"
   },
   "outputs": [],
   "source": [
    "#function to generate a random sentence using trigrams\n",
    "def trigram_generate(trigramprob,bigramprob,word):\n",
    "    \n",
    "    for j in range(50):\n",
    "        d=random.random()\n",
    "        x=float(0.0)\n",
    "        #print(\"word \",word)\n",
    "        #print(\" d \",d)    \n",
    "        if j==0:\n",
    "            for i in bigramprob.keys():\n",
    "                token=i.split()\n",
    "                #print(token)\n",
    "                if token[0]==word:\n",
    "                    x+=bigramprob[i]\n",
    "            if d>x:\n",
    "                d=x*d\n",
    "            result=float(0.0)\n",
    "            for i in bigramprob.keys():\n",
    "                token=i.split()\n",
    "                if token[1]=='<s>':\n",
    "                    continue\n",
    "                if token[0]==word:\n",
    "                    result+=bigramprob[i]\n",
    "                    if result>=d:\n",
    "                        word=i\n",
    "                        if token[1]=='</s>':\n",
    "                            print('.',end=' ')\n",
    "                            return\n",
    "                        else:\n",
    "                            print(token[1],end=' ')\n",
    "                        break\n",
    "        else:\n",
    "            for i in trigramprob.keys():\n",
    "                token=i.split()\n",
    "                w=word.split()\n",
    "                if token[0]==w[0] and token[1]==w[1]:\n",
    "                    x+=trigramprob[i]\n",
    "                if d>x:\n",
    "                    d=x*d\n",
    "                result=float(0.0)\n",
    "            #print(\"after d\",d)\n",
    "            for i in trigramprob.keys():\n",
    "                token=i.split()\n",
    "                w=word.split() #print(\"result \",result)\n",
    "                if token[2]=='<s>':\n",
    "                    continue\n",
    "                if token[0]==w[0] and token[1]==w[1]:\n",
    "                    result+=trigramprob[i]\n",
    "                    if result>=d:\n",
    "                        word=token[1]+' '+token[2]\n",
    "                        if token[2]=='</s>':\n",
    "                            print('.',end=' ')\n",
    "                            return\n",
    "                        else:\n",
    "                            print(token[2],end=' ')\n",
    "                        break\n",
    "            \n",
    "            \n",
    "    "
   ]
  },
  {
   "cell_type": "code",
   "execution_count": 0,
   "metadata": {
    "colab": {},
    "colab_type": "code",
    "id": "s_JUDHu32sWX",
    "outputId": "82dd7e88-6214-4b0b-9709-c7cff9d89527"
   },
   "outputs": [
    {
     "name": "stdout",
     "output_type": "stream",
     "text": [
      "believe me you know shes been involved in corruption her whole life whether its whitewater . he borrowed a million dollars at an interest rate that everybody in this room would be proud to have a disaster called the big lie obamacare . who is better than us in education and many other things . they cant make a deal because they have no leaderits not like oh gee we disagree on obamacare . everybody knows its a five year statute of limitations . "
     ]
    }
   ],
   "source": [
    "for i in range(5):\n",
    "    trigram_generate(trigram_prob,bigram_prob,'<s>')"
   ]
  },
  {
   "cell_type": "code",
   "execution_count": 0,
   "metadata": {
    "colab": {},
    "colab_type": "code",
    "id": "FWK2wseg2sWZ"
   },
   "outputs": [],
   "source": [
    "#function to generate a random sentence using quadgrams\n",
    "def quadgram_generate(quadgramprob,trigramprob,bigramprob,word):\n",
    "    \n",
    "    for j in range(50):\n",
    "        d=random.random()*0.00001\n",
    "        x=float(0.0)\n",
    "        #print(\"word \",word)\n",
    "        #print(\" d \",d)    \n",
    "        if j==0:\n",
    "            for i in bigramprob.keys():\n",
    "                token=i.split()\n",
    "                #print(token)\n",
    "                if token[0]==word:\n",
    "                    x+=bigramprob[i]\n",
    "            if d>x:\n",
    "                d=x*d\n",
    "            result=float(0.0)\n",
    "            for i in bigramprob.keys():\n",
    "                token=i.split()\n",
    "                if token[1]=='<s>':\n",
    "                    continue\n",
    "                if token[0]==word:\n",
    "                    result+=bigramprob[i]\n",
    "                    if result>=d:\n",
    "                        word=i\n",
    "                        if token[1]=='</s>':\n",
    "                            print('.',end=' ')\n",
    "                            return\n",
    "                        else:\n",
    "                            print(token[1],end=' ')\n",
    "                        break\n",
    "        elif j==1:\n",
    "            for i in trigramprob.keys():\n",
    "                token=i.split()\n",
    "                w=word.split()\n",
    "                if token[0]==w[0] and token[1]==w[1]:\n",
    "                    x+=trigramprob[i]\n",
    "                if d>x:\n",
    "                    d=x*d\n",
    "                result=float(0.0)\n",
    "            #print(\"after d\",d)\n",
    "            for i in trigramprob.keys():\n",
    "                token=i.split()\n",
    "                w=word.split() #print(\"result \",result)\n",
    "                if token[2]=='<s>':\n",
    "                    continue\n",
    "                if token[0]==w[0] and token[1]==w[1]:\n",
    "                    result+=trigramprob[i]\n",
    "                    if result>=d:\n",
    "                        word=i\n",
    "                        if token[2]=='</s>':\n",
    "                            print('.',end=' ')\n",
    "                            return\n",
    "                        else:\n",
    "                            print(token[2],end=' ')\n",
    "                        break\n",
    "        else:\n",
    "            for i in quadgramprob.keys():\n",
    "                token=i.split()\n",
    "                w=word.split()\n",
    "                if token[0]==w[0] and token[1]==w[1] and token[2]==w[2]:\n",
    "                    x+=quadgramprob[i]\n",
    "                if d>x:\n",
    "                    d=x*d\n",
    "                result=float(0.0)\n",
    "            #print(\"after d\",d)\n",
    "            for i in quadgramprob.keys():\n",
    "                token=i.split()\n",
    "                w=word.split() #print(\"result \",result)\n",
    "                if token[3]=='<s>':\n",
    "                    continue\n",
    "                if token[0]==w[0] and token[1]==w[1] and token[2]==w[2]:\n",
    "                    result+=quadgramprob[i]\n",
    "                    if result>=d:\n",
    "                        word=' '.join(token[:3])+' '\n",
    "                        if token[3]=='</s>':\n",
    "                            print('.',end=' ')\n",
    "                            return\n",
    "                        else:\n",
    "                            print(token[3],end=' ')\n",
    "                        break\n",
    "            \n",
    "            \n",
    "    "
   ]
  },
  {
   "cell_type": "code",
   "execution_count": 0,
   "metadata": {
    "colab": {},
    "colab_type": "code",
    "id": "pYvWDaPs2sWc",
    "outputId": "ebe8b8cd-342d-4f09-bd6f-403829cc62a1"
   },
   "outputs": [
    {
     "name": "stdout",
     "output_type": "stream",
     "text": [
      "no they want want want want want want want want want want want want want want want want want want want want want want want want want want want want want want want want want want want want want want want want want want want want want want want want no they want want want want want want want want want want want want want want want want want want want want want want want want want want want want want want want want want want want want want want want want want want want want want want want want no they want want want want want want want want want want want want want want want want want want want want want want want want want want want want want want want want want want want want want want want want want want want want want want want want no they want want want want want want want want want want want want want want want want want want want want want want want want want want want want want want want want want want want want want want want want want want want want want want want want no they want want want want want want want want want want want want want want want want want want want want want want want want want want want want want want want want want want want want want want want want want want want want want want want want "
     ]
    }
   ],
   "source": [
    "for i in range(5):\n",
    "    quadgram_generate(quadgram_prob,trigram_prob,bigram_prob,'<s>')"
   ]
  },
  {
   "cell_type": "code",
   "execution_count": 0,
   "metadata": {
    "colab": {},
    "colab_type": "code",
    "id": "0jOKM63J2sWf"
   },
   "outputs": [],
   "source": []
  }
 ],
 "metadata": {
  "colab": {
   "name": "part1.ipynb",
   "provenance": []
  },
  "kernelspec": {
   "display_name": "Python 3",
   "language": "python",
   "name": "python3"
  },
  "language_info": {
   "codemirror_mode": {
    "name": "ipython",
    "version": 3
   },
   "file_extension": ".py",
   "mimetype": "text/x-python",
   "name": "python",
   "nbconvert_exporter": "python",
   "pygments_lexer": "ipython3",
   "version": "3.7.3"
  }
 },
 "nbformat": 4,
 "nbformat_minor": 1
}
