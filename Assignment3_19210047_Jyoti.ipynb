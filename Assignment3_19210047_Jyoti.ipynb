{
  "nbformat": 4,
  "nbformat_minor": 0,
  "metadata": {
    "colab": {
      "name": "Copy of sentiment_analysis.ipynb",
      "provenance": [],
      "collapsed_sections": []
    },
    "kernelspec": {
      "name": "python3",
      "display_name": "Python 3"
    }
  },
  "cells": [
    {
      "cell_type": "code",
      "metadata": {
        "id": "oaDn6JY3pP5U",
        "colab_type": "code",
        "colab": {
          "base_uri": "https://localhost:8080/",
          "height": 79
        },
        "outputId": "714a6879-40eb-4d4a-afe5-5cc0f986325b"
      },
      "source": [
        "import keras.callbacks\n",
        "import tensorflow as tf\n",
        "from keras.layers import Dense, Input, Dropout, MaxPooling1D, Conv1D, GlobalMaxPool1D\n",
        "from keras.layers import LSTM, Lambda, concatenate, TimeDistributed, Bidirectional"
      ],
      "execution_count": 1,
      "outputs": [
        {
          "output_type": "stream",
          "text": [
            "Using TensorFlow backend.\n"
          ],
          "name": "stderr"
        },
        {
          "output_type": "display_data",
          "data": {
            "text/html": [
              "<p style=\"color: red;\">\n",
              "The default version of TensorFlow in Colab will soon switch to TensorFlow 2.x.<br>\n",
              "We recommend you <a href=\"https://www.tensorflow.org/guide/migrate\" target=\"_blank\">upgrade</a> now \n",
              "or ensure your notebook will continue to use TensorFlow 1.x via the <code>%tensorflow_version 1.x</code> magic:\n",
              "<a href=\"https://colab.research.google.com/notebooks/tensorflow_version.ipynb\" target=\"_blank\">more info</a>.</p>\n"
            ],
            "text/plain": [
              "<IPython.core.display.HTML object>"
            ]
          },
          "metadata": {
            "tags": []
          }
        }
      ]
    },
    {
      "cell_type": "code",
      "metadata": {
        "id": "But1C6dppThw",
        "colab_type": "code",
        "outputId": "ce9c4c5a-e28d-4c4d-9aef-64ffeb3cb760",
        "colab": {
          "base_uri": "https://localhost:8080/",
          "height": 34
        }
      },
      "source": [
        "from google.colab import drive\n",
        "drive.mount('/content/drive', force_remount=True)"
      ],
      "execution_count": 2,
      "outputs": [
        {
          "output_type": "stream",
          "text": [
            "Mounted at /content/drive\n"
          ],
          "name": "stdout"
        }
      ]
    },
    {
      "cell_type": "code",
      "metadata": {
        "id": "YW1SRaKOpgKA",
        "colab_type": "code",
        "colab": {}
      },
      "source": [
        "import numpy as np\n",
        "import pandas as pd\n",
        "from keras.preprocessing.text import Tokenizer\n",
        "from keras.preprocessing.sequence import pad_sequences\n",
        "\n",
        "from keras.layers import Input, Embedding, Activation, Flatten, Dense\n",
        "from keras.layers import Conv1D, MaxPooling1D, Dropout\n",
        "from keras.models import Model\n",
        "from keras.layers import LeakyReLU"
      ],
      "execution_count": 0,
      "outputs": []
    },
    {
      "cell_type": "code",
      "metadata": {
        "id": "X5eGTn39pheE",
        "colab_type": "code",
        "colab": {}
      },
      "source": [
        "import re\n",
        "with open('/content/drive/My Drive/Colab Notebooks/nlp assignment 3/train.txt') as fp:\n",
        "\tlineList = fp.readlines()\n",
        "\n",
        "tempTrainData = []\n",
        "tempList = []\n",
        "for item in lineList:\n",
        "\titem = re.sub(r'\\t',' ',item)\n",
        "\titem = re.sub(r'\\n','',item)\n",
        "\ttemp = item.split(' ')\n",
        "\tif len(temp)==3:\n",
        "\t\ttempTrainData.append(tempList)\n",
        "\t\ttempTrainData.append([temp[2]])\n",
        "\t\ttempList = [' ']\n",
        "\telse:\n",
        "\t\ttempList.append(temp[0])\n",
        "\n",
        "trainData = np.array(tempTrainData)\n",
        "\n",
        "dataList = []\n",
        "sentiList = []\n",
        "\n",
        "for i in range(len(trainData)):\n",
        "\ts = ''\n",
        "\tfor item in trainData[i]:\n",
        "\t\ts = s+' '+item\n",
        "\t\n",
        "\tif s == '' or s == ' ':\n",
        "\t\tpass\n",
        "\telif s == ' positive' or s== ' negative' or s==' neutral':\n",
        "\t\ts = re.sub(r'','',s)\n",
        "\t\tsentiList.append(s)\n",
        "\telse:\n",
        "\t\tdataList.append(s)\n",
        "\n",
        "del sentiList[len(sentiList)-1]\n"
      ],
      "execution_count": 0,
      "outputs": []
    },
    {
      "cell_type": "code",
      "metadata": {
        "id": "uPPPDXvupqnd",
        "colab_type": "code",
        "colab": {}
      },
      "source": [
        "with open('/content/drive/My Drive/Colab Notebooks/nlp assignment 3/test.txt') as fp:\n",
        "\tlineList = fp.readlines()\n",
        "\n",
        "tempTestData = []\n",
        "tempTestList = []\n",
        "for item in lineList:\n",
        "\titem = re.sub(r'\\t',' ',item)\n",
        "\titem = re.sub(r'\\n','',item)\n",
        "\ttemp = item.split(' ')\n",
        "\tif len(temp)==3:\n",
        "\t\ttempTestData.append(tempTestList)\n",
        "\t\ttempTestData.append([temp[2]])\n",
        "\t\ttempTestList = [' ']\n",
        "\telse:\n",
        "\t\ttempTestList.append(temp[0])\n",
        "\n",
        "testData = np.array(tempTestData)\n",
        "\n",
        "dataTestList = []\n",
        "sentiTestList = []\n",
        "\n",
        "for i in range(len(testData)):\n",
        "\ts = ''\n",
        "\tfor item in testData[i]:\n",
        "\t\ts = s+' '+item\n",
        "\t\n",
        "\tif s == '' or s == ' ':\n",
        "\t\tpass\n",
        "\telif s == ' positive' or s== ' negative' or s==' neutral':\n",
        "\t\ts = re.sub(r'','',s)\n",
        "\t\tsentiTestList.append(s)\n",
        "\telse:\n",
        "\t\tdataTestList.append(s)\n",
        "\n",
        "del sentiTestList[len(sentiTestList)-1]\n",
        "\n",
        "train_arr=dataList\n",
        "test_arr=dataTestList\n",
        "train_arr_senti=sentiList\n",
        "test_arr_senti=sentiTestList\n"
      ],
      "execution_count": 0,
      "outputs": []
    },
    {
      "cell_type": "code",
      "metadata": {
        "id": "IvAhp8rbp2aJ",
        "colab_type": "code",
        "colab": {}
      },
      "source": [
        "\n",
        "train_texts = train_arr[:]\n",
        "train_texts = [s.lower() for s in train_texts]\n",
        "\n",
        "test_texts = test_arr[:]\n",
        "test_texts = [s.lower() for s in test_texts]\n",
        "\n",
        "tk = Tokenizer(num_words=None, char_level=True, oov_token='UNK')\n",
        "tk.fit_on_texts(train_texts)\n",
        "\n",
        "train_sequences = tk.texts_to_sequences(train_texts)\n",
        "test_texts = tk.texts_to_sequences(test_texts)\n",
        "train_data = pad_sequences(train_sequences, maxlen=170, padding='post')\n",
        "test_data = pad_sequences(test_texts, maxlen=170, padding='post')\n",
        "train_data = np.array(train_data)\n",
        "test_data = np.array(test_data)\n",
        "train_classes_1 = train_arr_senti[:]\n",
        "train_class_list = []\n",
        "\n",
        "for i in train_classes_1:\n",
        "  if(i == ' positive'):\n",
        "    train_class_list.append(0)\n",
        "  elif(i == ' negative'):\n",
        "    train_class_list.append(1)\n",
        "  else:\n",
        "    train_class_list.append(2)\n",
        "\n",
        "train_class_list = np.array(train_class_list)\n",
        "\n",
        "test_classes_1 = test_arr_senti[:]\n",
        "test_class_list = []\n",
        "\n",
        "for i in test_classes_1:\n",
        "  if(i == ' positive'):\n",
        "    test_class_list.append(0)\n",
        "  elif(i == ' negative'):\n",
        "    test_class_list.append(1)\n",
        "  else:\n",
        "    test_class_list.append(2)\n",
        "\n",
        "test_class_list = np.array(test_class_list)\n",
        "\n",
        "from keras.utils import to_categorical\n",
        "\n",
        "train_classes = to_categorical(train_class_list)\n",
        "test_classes = to_categorical(test_class_list)"
      ],
      "execution_count": 0,
      "outputs": []
    },
    {
      "cell_type": "code",
      "metadata": {
        "id": "R7XEcE4_p-JV",
        "colab_type": "code",
        "outputId": "f8e5ad76-f828-4013-8c7c-565e5dda74fb",
        "colab": {
          "base_uri": "https://localhost:8080/",
          "height": 1000
        }
      },
      "source": [
        "\n",
        "input_size = 170\n",
        "vocab_size = len(tk.word_index)\n",
        "print(tk.word_index)\n",
        "embedding_size = 899\n",
        "conv_layers = [[256, 2, 4],\n",
        "               [256, 2, 4],\n",
        "               [256, 2, -1],\n",
        "               [256, 2, -1],\n",
        "               [256, 2, -1],\n",
        "               [256, 2, 4]]\n",
        "\n",
        "fully_connected_layers = [1024, 1024]\n",
        "num_of_classes = 3\n",
        "dropout_p = 0.5\n",
        "optimizer = 'Adamax'\n",
        "loss = 'categorical_crossentropy'\n",
        "\n",
        "\n",
        "embedding_weights = [] \n",
        "embedding_weights.append(np.zeros(vocab_size))  \n",
        "\n",
        "for char, i in tk.word_index.items():\n",
        "    onehot = np.zeros(vocab_size)\n",
        "    onehot[i - 1] = 1\n",
        "    embedding_weights.append(onehot)\n",
        "\n",
        "embedding_weights = np.array(embedding_weights)\n",
        "embedding_layer = Embedding(vocab_size+1,embedding_size, weights=[embedding_weights])\n",
        "inputs = Input(shape=(input_size,), name='input', dtype='int64') \n",
        "x = embedding_layer(inputs)\n",
        "for filter_num, filter_size, pooling_size in conv_layers:\n",
        "    x = Conv1D(filter_num, filter_size)(x)\n",
        "    x = LeakyReLU(alpha=0.05)(x)\n",
        "    if pooling_size != -1:\n",
        "        x = MaxPooling1D(pool_size=pooling_size)(x)  \n",
        "\n",
        "x = Flatten()(x)\n",
        "\n",
        "for dense_size in fully_connected_layers:\n",
        "    x = Dense(dense_size, activation='linear')(x)\n",
        "    x = LeakyReLU(alpha=0.05)(x)\n",
        "    x = Dropout(dropout_p)(x)\n",
        "\n",
        "predictions = Dense(num_of_classes, activation='softmax')(x)\n",
        "\n",
        "model = Model(inputs=inputs, outputs=predictions)\n",
        "model.compile(optimizer=optimizer, loss=loss, metrics=['accuracy']) \n",
        "model.summary()\n",
        "\n",
        "indices = np.arange(train_data.shape[0])\n",
        "np.random.shuffle(indices)\n",
        "x_train = train_data[indices]\n",
        "y_train = train_classes[indices]\n",
        "\n",
        "x_test = test_data\n",
        "y_test = test_classes\n"
      ],
      "execution_count": 9,
      "outputs": [
        {
          "output_type": "stream",
          "text": [
            "{'UNK': 1, ' ': 2, 'a': 3, 'i': 4, 'e': 5, 'h': 6, 't': 7, 'o': 8, 'r': 9, 's': 10, 'n': 11, 'k': 12, 'm': 13, 'l': 14, 'd': 15, 'u': 16, 'p': 17, 'b': 18, 'y': 19, 'c': 20, 'g': 21, '/': 22, '@': 23, '.': 24, 'j': 25, 'w': 26, 'f': 27, 'v': 28, '…': 29, 'z': 30, '_': 31, '1': 32, '0': 33, 'q': 34, '2': 35, 'x': 36, '3': 37, '9': 38, '5': 39, '4': 40, '7': 41, '8': 42, '6': 43, '#': 44, '!': 45, '😂': 46, '?': 47, \"'\": 48, '-': 49, '’': 50, '️': 51, '🙏': 52, '❤': 53, '🤣': 54, '😍': 55, '&': 56, ')': 57, '(': 58, '😭': 59, '*': 60, '😘': 61, '🇮': 62, '🇳': 63, '😊': 64, '🌹': 65, '💜': 66, '🎂': 67, '“': 68, '💕': 69, 'ा': 70, '😁': 71, '👏': 72, '🎉': 73, '💖': 74, '👍': 75, '|': 76, '👌': 77, '”': 78, '✌': 79, '😜': 80, '%': 81, 'र': 82, '😆': 83, '💐': 84, '🏻': 85, '+': 86, '♥': 87, '🤗': 88, '्': 89, '😎': 90, '😡': 91, '🙄': 92, '🔥': 93, '~': 94, '🤔': 95, '\\u200d': 96, '😉': 97, '💙': 98, '😠': 99, '😅': 100, '🙌': 101, '\\U0001f92a': 102, '😀': 103, 'न': 104, 'क': 105, 'म': 106, ';': 107, '🌸': 108, '💓': 109, 'ी': 110, '😋': 111, 'स': 112, '💔': 113, '☺': 114, '‘': 115, '😢': 116, '😌': 117, '—': 118, '\\U0001f970': 119, 'े': 120, '💞': 121, '💪': 122, '😝': 123, 'ह': 124, '😔': 125, 'त': 126, '💯': 127, '💗': 128, '😒': 129, '😑': 130, '😄': 131, '\\xa0': 132, '🙈': 133, '[': 134, '🚩': 135, '🌷': 136, '🎊': 137, 'ं': 138, '😇': 139, '=': 140, '😪': 141, '👇': 142, '🌺': 143, '😹': 144, 'é': 145, ']': 146, 'य': 147, '😛': 148, 'ि': 149, '😐': 150, '🏼': 151, '🙂': 152, '>': 153, '😬': 154, '🎁': 155, '😃': 156, 'ग': 157, 'प': 158, 'ब': 159, '\\U0001f929': 160, '💚': 161, '😤': 162, '😏': 163, 'á': 164, '🎈': 165, '🏽': 166, '😕': 167, '$': 168, '💏': 169, 'ا': 170, '🏆': 171, '😩': 172, '🤦': 173, '<': 174, 'द': 175, '🇵': 176, '🇰': 177, '\"': 178, '♂': 179, 'ā': 180, 'व': 181, '\\U0001f928': 182, '♀': 183, '🙊': 184, 'ज': 185, '☹': 186, '💃': 187, 'ु': 188, 'ल': 189, '\\U0001f97a': 190, '🏾': 191, '🖕': 192, '🤧': 193, 'ो': 194, 'ू': 195, '💝': 196, '✨': 197, 'ै': 198, '\\U0001f92c': 199, '✅': 200, 'ل': 201, '💋': 202, '❣': 203, 'श': 204, '🌈': 205, '🌚': 206, 'م': 207, 'í': 208, '😶': 209, '😈': 210, 'ر': 211, '😷': 212, '👉': 213, '💛': 214, '💘': 215, '–': 216, '😣': 217, 'भ': 218, '😳': 219, 'ع': 220, '💮': 221, '🔯': 222, '👋': 223, '😨': 224, '😞': 225, '\\U0001f973': 226, 'ı': 227, 'ی': 228, '🤓': 229, '🏵': 230, '👑': 231, '😥': 232, 'ş': 233, '😚': 234, 'ᴇ': 235, 'و': 236, 'अ': 237, '🌼': 238, '😴': 239, '`': 240, '🤘': 241, '👀': 242, '\\U000e0067': 243, '🖤': 244, '⚫': 245, '😓': 246, '🙉': 247, '🎶': 248, '💥': 249, '👫': 250, 'ç': 251, '🏏': 252, 'د': 253, 'फ': 254, '🌲': 255, '్': 256, '‼': 257, '😻': 258, '🌱': 259, 'å': 260, 'ü': 261, '🐍': 262, '🤷': 263, '💫': 264, 'ध': 265, '🦋': 266, 'ट': 267, '\\U0001f932': 268, '👻': 269, '\\U0001f9e1': 270, 'ñ': 271, 'ê': 272, '🍫': 273, '🤞': 274, '😫': 275, '🙇': 276, 'ᴀ': 277, '🎼': 278, '🙃': 279, 'च': 280, '✊': 281, '💑': 282, 'ख': 283, '\\U0001f92d': 284, '👦': 285, '👈': 286, '🎵': 287, '👩': 288, '➡': 289, '✖': 290, '✔': 291, '😱': 292, 'थ': 293, '🗿': 294, '🤙': 295, 'ة': 296, 'ق': 297, 'ᴛ': 298, '🌿': 299, '🙆': 300, 'ए': 301, '•': 302, '🌵': 303, 'ర': 304, '´': 305, '⛳': 306, 'ड': 307, 'ج': 308, '☝': 309, '🇦': 310, '🏴': 311, '\\U000e0062': 312, '\\U000e007f': 313, 'ã': 314, '😯': 315, '❓': 316, '❗': 317, '🍧': 318, '₹': 319, '📄': 320, '🎓': 321, 'ɪ': 322, 'ɴ': 323, 'ᴍ': 324, '✋': 325, 'ت': 326, 'ک': 327, '🤝': 328, '👭': 329, '😟': 330, '🍰': 331, '😮': 332, 'ి': 333, 'ా': 334, '🔫': 335, '👎': 336, '🐱': 337, '🏳': 338, '😰': 339, '\\U000e0065': 340, '\\U000e006e': 341, '🖐': 342, '🌙': 343, '{': 344, '}': 345, '💩': 346, '่': 347, 'ई': 348, '^': 349, 'س': 350, '⬇': 351, '\\U0001f92f': 352, '¡': 353, '╭': 354, '╮': 355, '👨': 356, 'ɩ': 357, 'ᵒ': 358, 'ᵉ': 359, 'の': 360, '✍': 361, '𝗲': 362, '😗': 363, '🎇': 364, 'ä': 365, 'ष': 366, '👰': 367, '👸': 368, 'ʀ': 369, 'ô': 370, 'ł': 371, '📃': 372, '\\U0001f9da': 373, '👿': 374, 'इ': 375, '🇺': 376, '🇸': 377, '🍾': 378, 'ौ': 379, 'క': 380, 'ు': 381, 'స': 382, 'ం': 383, 'డ': 384, 'ప': 385, '🐷': 386, '😙': 387, '🇫': 388, '🇩': 389, '🇿': 390, '👊': 391, '🇬': 392, '💸': 393, 'आ': 394, 'ค': 395, '़': 396, '🚨': 397, '🏿': 398, '\\U0001f91f': 399, 'ے': 400, 'č': 401, 'ý': 402, '\\U0001f9d0': 403, '🔴': 404, '।': 405, '🙁': 406, '❌': 407, '👠': 408, '🎤': 409, '𝄞': 410, 'ਂ': 411, 'ن': 412, '🌟': 413, '⬆': 414, '🌻': 415, '🎀': 416, '🔝': 417, 'ˢ': 418, '🗣': 419, '\\u2066': 420, '💎': 421, 'ン': 422, 'ー': 423, '\\u200b': 424, '𝘀': 425, '🐖': 426, '😖': 427, 'ạ': 428, 'ẽ': 429, 'ó': 430, '🍨': 431, '🍬': 432, '🐯': 433, '🌝': 434, '👾': 435, 'ㅠ': 436, 'ي': 437, '►': 438, 'ण': 439, 'ᴋ': 440, 'ғ': 441, 'ᴅ': 442, '💬': 443, 'ᴏ': 444, 'ᴘ': 445, 'đ': 446, '💡': 447, '💁': 448, '🤤': 449, 'ب': 450, 'ż': 451, '🙋': 452, 'छ': 453, 'ﷺ': 454, '📷': 455, 'ँ': 456, '⃣': 457, '스': 458, 'ｓ': 459, 'మ': 460, 'న': 461, 'ద': 462, 'త': 463, 'ో': 464, 'య': 465, 'ల': 466, 'ఉ': 467, 'ష': 468, 'ृ': 469, 'ů': 470, '🇧': 471, '🇱': 472, '🌴': 473, '✈': 474, '💌': 475, '🎋': 476, 'ۃ': 477, '💀': 478, 'ꕊ': 479, '𝐡': 480, '𝐞': 481, 'ผ': 482, 'น': 483, 'ป': 484, 'ี': 485, 'อ': 486, 'บ': 487, 'ุ': 488, 'ท': 489, 'ก': 490, '\\U0001f975': 491, '🚬': 492, '🦉': 493, 'ش': 494, '👧': 495, '🌍': 496, 'ः': 497, '💅': 498, '🤒': 499, '｡': 500, '‿': 501, '◉': 502, '🍦': 503, 'ö': 504, '×': 505, '🚴': 506, '🚶': 507, '🎧': 508, '🐼': 509, '🐂': 510, '🌶': 511, 'ř': 512, '🍍': 513, '🌎': 514, '·': 515, '¯': 516, 'っ': 517, '˘': 518, '̩': 519, '🍎': 520, '🍏': 521, '♡': 522, '⃑': 523, 'լ': 524, 'ɣ': 525, 'є': 526, 'ɲ': 527, 'ਹ': 528, 'ੁ': 529, 'ਤ': 530, 'ੀ': 531, 'ਰ': 532, '🦍': 533, 'ú': 534, '🌏': 535, '®': 536, '🎬': 537, '👺': 538, '기': 539, '다': 540, '⠀': 541, '🇭': 542, '〣': 543, 'º': 544, 'ᵐ': 545, 'ʸ': 546, 'ᵍ': 547, 'ᵘ': 548, 'ᵃ': 549, 'ᶦ': 550, '\\u2069': 551, 'ダ': 552, 'ヒ': 553, 'ョ': 554, '日': 555, '限': 556, '定': 557, 'で': 558, 'す': 559, '𝗶': 560, '𝗰': 561, '🍃': 562, 'ī': 563, 'ē': 564, '🌘': 565, '⤴': 566, 'а': 567, 'î': 568, '✴': 569, '❔': 570, '⁉': 571, '➕': 572, '¿': 573, 'ğ': 574, '🤠': 575, '☪': 576, '🏖': 577, '👼': 578, 'ʟ': 579, '👥': 580, 'ɢ': 581, '💾': 582, 'ᴠ': 583, 'ᴄ': 584, 'ʏ': 585, 'ᴜ': 586, 'ʜ': 587, 'ế': 588, 'ồ': 589, 'ủ': 590, 'ề': 591, 'ố': 592, '🍂': 593, 'ئ': 594, 'ć': 595, 'ę': 596, 'ś': 597, '↑': 598, '🔷': 599, '🔶': 600, '🐸': 601, '👆': 602, '✉': 603, '🇲': 604, '🛐': 605, 'ﷻ': 606, '\\U0001f9c1': 607, '🥂': 608, '𝐹': 609, '𝒾': 610, '𝑔': 611, '𝒽': 612, '𝓉': 613, '𝒻': 614, '𝑜': 615, '𝓇': 616, '𝓊': 617, '𝓈': 618, '📝': 619, '猫': 620, 'ね': 621, 'こ': 622, 'ネ': 623, 'コ': 624, '🔞': 625, '💣': 626, 'ऑ': 627, '한': 628, '국': 629, '댄': 630, '러': 631, '시': 632, '팀': 633, '약': 634, '자': 635, '제': 636, '일': 637, '은': 638, '행': 639, 'ｕ': 640, 'ｎ': 641, 'ｅ': 642, 'ｔ': 643, '🐈': 644, '🤚': 645, 'ధ': 646, 'బ': 647, 'ే': 648, 'ఇ': 649, 'అ': 650, 'ూ': 651, 'వ': 652, 'చ': 653, '🍇': 654, 'ě': 655, 'š': 656, 'ठ': 657, '🏁': 658, '🥃': 659, '🎩': 660, '🦁': 661, '🕋': 662, '🐗': 663, 'ه': 664, '🕺': 665, '🕯': 666, '🙀': 667, 'ॉ': 668, '😲': 669, '🔚': 670, '🔨': 671, '🐒': 672, '𝐂': 673, '𝐚': 674, '𝐩': 675, '𝐭': 676, '𝐫': 677, '𝟔': 678, '𝟏': 679, '𝟐': 680, '𝐉': 681, '𝐮': 682, '𝐧': 683, '𝐖': 684, '𝐢': 685, '𝐬': 686, '︎': 687, 'า': 688, 'ไ': 689, 'แ': 690, 'ล': 691, '้': 692, 'ว': 693, 'ร': 694, 'ึ': 695, 'ง': 696, 'ข': 697, 'ณ': 698, 'ย': 699, 'ู': 700, 'ั': 701, '🤑': 702, 'ں': 703, 'ہ': 704, '★': 705, '⚔': 706, '🇷': 707, '☀': 708, '\\U0001f9f8': 709, 'ň': 710, '👐': 711, '🍀': 712, '🙅': 713, '⚪': 714, '\\U000e0073': 715, '\\U000e0063': 716, '\\U000e0074': 717, '🛍': 718, 'ò': 719, '£': 720, '€': 721, '⭐': 722, 'à': 723, '🦄': 724, '🍱': 725, '⚽': 726, '👞': 727, '\\U0001f97e': 728, '👟': 729, '😼': 730, '🌊': 731, '℅': 732, '🐥': 733, '🐿': 734, '🔈': 735, '🔪': 736, '⌚': 737, '▂': 738, '🍟': 739, '🏋': 740, '🐶': 741, '¥': 742, 'ਣ': 743, 'ਸ': 744, 'ਨ': 745, 'ਕ': 746, 'ੋ': 747, 'ਗ': 748, 'ੇ': 749, 'ਾ': 750, 'ਫ': 751, 'ਿ': 752, '―': 753, 'ì': 754, '🇨': 755, '🌳': 756, 'غ': 757, 'ط': 758, 'خ': 759, 'ز': 760, '🐮': 761, '🔁': 762, '\\U0001f9b3': 763, '📻': 764, '🌄': 765, '☔': 766, 'μ': 767, '🐓': 768, '❇': 769, '🇪': 770, 'ঈ': 771, 'দ': 772, 'ম': 773, 'ো': 774, 'ব': 775, 'া': 776, 'র': 777, 'ক': 778, '°': 779, '이': 780, '나': 781, '경': 782, '🐕': 783, '👅': 784, 'گ': 785, '🔔': 786, '🔐': 787, '🤡': 788, '🐐': 789, '\\U0001f96d': 790, '👹': 791, '📿': 792, '멀': 793, '티': 794, '뷰': 795, '와': 796, '함': 797, '께': 798, '즐': 799, '는': 800, '머': 801, '터': 802, '실': 803, '황': 804, '생': 805, '중': 806, '계': 807, '만': 808, '립': 809, '니': 810, '😵': 811, '🎟': 812, '🕌': 813, '💟': 814, 'औ': 815, '🏡': 816, '⛲': 817, 'δ': 818, 'ʰ': 819, 'ᵈ': 820, 'ʳ': 821, 'ᶜ': 822, 'ᵗ': 823, 'ᵛ': 824, 'ᵏ': 825, '😿': 826, '🤕': 827, '🎥': 828, '🤐': 829, '🔟': 830, '🎆': 831, '🎗': 832, 'は': 833, '🦅': 834, '誕': 835, '生': 836, '当': 837, '、': 838, 'イ': 839, 'ベ': 840, 'ト': 841, 'ス': 842, 'テ': 843, 'ジ': 844, 'が': 845, 'つ': 846, 'い': 847, 'に': 848, '開': 849, '放': 850, 'べ': 851, 'て': 852, 'パ': 853, 'ズ': 854, 'ル': 855, 'を': 856, 'ク': 857, 'リ': 858, 'ア': 859, 'る': 860, 'と': 861, 'ム': 862, 'ビ': 863, 'ま': 864, 'ỉ': 865, 'ư': 866, 'ờ': 867, '⇒': 868, '⛽': 869, '👶': 870, '𝗣': 871, '𝘂': 872, '𝗯': 873, '𝗹': 874, '𝗿': 875, '𝘃': 876, '𝗺': 877, '𝗮': 878, '𝗴': 879, '😦': 880, '™': 881, '📈': 882, '⚕': 883, '📣': 884, 'м': 885, 'о': 886, 'д': 887, 'к': 888, 'р': 889, 'т': 890, '🇾': 891, 'ص': 892, '🌌': 893, '👒': 894, '🥇': 895, '⚘': 896, '💍': 897, '\\U0001f974': 898, '\\U0001f92e': 899}\n",
            "Model: \"model_2\"\n",
            "_________________________________________________________________\n",
            "Layer (type)                 Output Shape              Param #   \n",
            "=================================================================\n",
            "input (InputLayer)           (None, 170)               0         \n",
            "_________________________________________________________________\n",
            "embedding_2 (Embedding)      (None, 170, 899)          809100    \n",
            "_________________________________________________________________\n",
            "conv1d_7 (Conv1D)            (None, 169, 256)          460544    \n",
            "_________________________________________________________________\n",
            "leaky_re_lu_9 (LeakyReLU)    (None, 169, 256)          0         \n",
            "_________________________________________________________________\n",
            "max_pooling1d_4 (MaxPooling1 (None, 42, 256)           0         \n",
            "_________________________________________________________________\n",
            "conv1d_8 (Conv1D)            (None, 41, 256)           131328    \n",
            "_________________________________________________________________\n",
            "leaky_re_lu_10 (LeakyReLU)   (None, 41, 256)           0         \n",
            "_________________________________________________________________\n",
            "max_pooling1d_5 (MaxPooling1 (None, 10, 256)           0         \n",
            "_________________________________________________________________\n",
            "conv1d_9 (Conv1D)            (None, 9, 256)            131328    \n",
            "_________________________________________________________________\n",
            "leaky_re_lu_11 (LeakyReLU)   (None, 9, 256)            0         \n",
            "_________________________________________________________________\n",
            "conv1d_10 (Conv1D)           (None, 8, 256)            131328    \n",
            "_________________________________________________________________\n",
            "leaky_re_lu_12 (LeakyReLU)   (None, 8, 256)            0         \n",
            "_________________________________________________________________\n",
            "conv1d_11 (Conv1D)           (None, 7, 256)            131328    \n",
            "_________________________________________________________________\n",
            "leaky_re_lu_13 (LeakyReLU)   (None, 7, 256)            0         \n",
            "_________________________________________________________________\n",
            "conv1d_12 (Conv1D)           (None, 6, 256)            131328    \n",
            "_________________________________________________________________\n",
            "leaky_re_lu_14 (LeakyReLU)   (None, 6, 256)            0         \n",
            "_________________________________________________________________\n",
            "max_pooling1d_6 (MaxPooling1 (None, 1, 256)            0         \n",
            "_________________________________________________________________\n",
            "flatten_2 (Flatten)          (None, 256)               0         \n",
            "_________________________________________________________________\n",
            "dense_4 (Dense)              (None, 1024)              263168    \n",
            "_________________________________________________________________\n",
            "leaky_re_lu_15 (LeakyReLU)   (None, 1024)              0         \n",
            "_________________________________________________________________\n",
            "dropout_3 (Dropout)          (None, 1024)              0         \n",
            "_________________________________________________________________\n",
            "dense_5 (Dense)              (None, 1024)              1049600   \n",
            "_________________________________________________________________\n",
            "leaky_re_lu_16 (LeakyReLU)   (None, 1024)              0         \n",
            "_________________________________________________________________\n",
            "dropout_4 (Dropout)          (None, 1024)              0         \n",
            "_________________________________________________________________\n",
            "dense_6 (Dense)              (None, 3)                 3075      \n",
            "=================================================================\n",
            "Total params: 3,242,127\n",
            "Trainable params: 3,242,127\n",
            "Non-trainable params: 0\n",
            "_________________________________________________________________\n"
          ],
          "name": "stdout"
        }
      ]
    },
    {
      "cell_type": "code",
      "metadata": {
        "id": "7Fwj-t4_qGcA",
        "colab_type": "code",
        "colab": {}
      },
      "source": [
        "import numpy as np\n",
        "from keras.callbacks import Callback\n",
        "from sklearn.metrics import confusion_matrix, f1_score, precision_score, recall_score\n",
        "\n",
        "class Metrics(Callback):\n",
        "  def __init__(self, logs={}):\n",
        "    self.val_f1s = []\n",
        "    self.val_recalls = []\n",
        "    self.val_precisions = []\n",
        " \n",
        "  def on_epoch_end(self, epoch, logs={}):\n",
        "    val_predict = (np.asarray(self.model.predict(x_test))).round()\n",
        "    val_targ = y_test\n",
        "    _val_f1 = f1_score(val_targ, val_predict,average=None)\n",
        "    _val_recall = recall_score(val_targ, val_predict,average=None)\n",
        "    _val_precision = precision_score(val_targ, val_predict,average=None)\n",
        "    self.val_f1s.append(_val_f1)\n",
        "    self.val_recalls.append(_val_recall)\n",
        "    self.val_precisions.append(_val_precision)\n",
        "    print(\" f1_score_Class1: %f \\t f1_score_Class2: %f \\t f1_score_Class3: %f \\n precision_Class1: %f \\t precision_Class2: %f \\t precision_Class3: %f \\n recall_Class1 %f \\t recall_Class2 %f \\t recall_Class3 %f\" %(_val_f1[0], _val_f1[1], _val_f1[2], _val_precision[0], _val_precision[1], _val_precision[2], _val_recall[0], _val_recall[1], _val_recall[2]))\n",
        "    return\n",
        " \n",
        "metrics = Metrics()"
      ],
      "execution_count": 0,
      "outputs": []
    },
    {
      "cell_type": "code",
      "metadata": {
        "id": "6RWsR1-JqMp1",
        "colab_type": "code",
        "outputId": "dd612fd8-e561-4593-8105-48f0ce4218e3",
        "colab": {
          "base_uri": "https://localhost:8080/",
          "height": 1000
        }
      },
      "source": [
        "hist = model.fit(x_train, y_train,validation_data=(x_test, y_test),batch_size=64,epochs=30,verbose=1,callbacks=[metrics])"
      ],
      "execution_count": 11,
      "outputs": [
        {
          "output_type": "stream",
          "text": [
            "WARNING:tensorflow:From /usr/local/lib/python3.6/dist-packages/tensorflow_core/python/ops/math_grad.py:1424: where (from tensorflow.python.ops.array_ops) is deprecated and will be removed in a future version.\n",
            "Instructions for updating:\n",
            "Use tf.where in 2.0, which has the same broadcast rule as np.where\n",
            "WARNING:tensorflow:From /usr/local/lib/python3.6/dist-packages/keras/backend/tensorflow_backend.py:1033: The name tf.assign_add is deprecated. Please use tf.compat.v1.assign_add instead.\n",
            "\n",
            "WARNING:tensorflow:From /usr/local/lib/python3.6/dist-packages/keras/backend/tensorflow_backend.py:1020: The name tf.assign is deprecated. Please use tf.compat.v1.assign instead.\n",
            "\n",
            "Train on 15130 samples, validate on 1868 samples\n",
            "Epoch 1/30\n",
            "15130/15130 [==============================] - 197s 13ms/step - loss: 1.0656 - acc: 0.4052 - val_loss: 1.0429 - val_acc: 0.4481\n"
          ],
          "name": "stdout"
        },
        {
          "output_type": "stream",
          "text": [
            "/usr/local/lib/python3.6/dist-packages/sklearn/metrics/classification.py:1437: UndefinedMetricWarning: F-score is ill-defined and being set to 0.0 in labels with no predicted samples.\n",
            "  'precision', 'predicted', average, warn_for)\n",
            "/usr/local/lib/python3.6/dist-packages/sklearn/metrics/classification.py:1437: UndefinedMetricWarning: Precision is ill-defined and being set to 0.0 in labels with no predicted samples.\n",
            "  'precision', 'predicted', average, warn_for)\n"
          ],
          "name": "stderr"
        },
        {
          "output_type": "stream",
          "text": [
            " f1_score_Class1: 0.237017 \t f1_score_Class2: 0.000000 \t f1_score_Class3: 0.194503 \n",
            " precision_Class1: 0.526627 \t precision_Class2: 0.000000 \t precision_Class3: 0.479167 \n",
            " recall_Class1 0.152921 \t recall_Class2 0.000000 \t recall_Class3 0.122016\n",
            "Epoch 2/30\n",
            "15130/15130 [==============================] - 198s 13ms/step - loss: 0.9752 - acc: 0.4995 - val_loss: 1.0195 - val_acc: 0.4781\n",
            " f1_score_Class1: 0.555095 \t f1_score_Class2: 0.345361 \t f1_score_Class3: 0.005291 \n",
            " precision_Class1: 0.536000 \t precision_Class2: 0.549180 \t precision_Class3: 1.000000 \n",
            " recall_Class1 0.575601 \t recall_Class2 0.251880 \t recall_Class3 0.002653\n",
            "Epoch 3/30\n",
            "15130/15130 [==============================] - 196s 13ms/step - loss: 0.9207 - acc: 0.5409 - val_loss: 0.9916 - val_acc: 0.5128\n",
            " f1_score_Class1: 0.537342 \t f1_score_Class2: 0.529884 \t f1_score_Class3: 0.063131 \n",
            " precision_Class1: 0.616927 \t precision_Class2: 0.504244 \t precision_Class3: 0.657895 \n",
            " recall_Class1 0.475945 \t recall_Class2 0.558271 \t recall_Class3 0.033156\n",
            "Epoch 4/30\n",
            "15130/15130 [==============================] - 196s 13ms/step - loss: 0.8826 - acc: 0.5655 - val_loss: 1.0123 - val_acc: 0.4963\n",
            " f1_score_Class1: 0.400938 \t f1_score_Class2: 0.527928 \t f1_score_Class3: 0.306950 \n",
            " precision_Class1: 0.630996 \t precision_Class2: 0.506920 \t precision_Class3: 0.563830 \n",
            " recall_Class1 0.293814 \t recall_Class2 0.550752 \t recall_Class3 0.210875\n",
            "Epoch 5/30\n",
            "15130/15130 [==============================] - 198s 13ms/step - loss: 0.8385 - acc: 0.6001 - val_loss: 1.0212 - val_acc: 0.5171\n",
            " f1_score_Class1: 0.516129 \t f1_score_Class2: 0.560935 \t f1_score_Class3: 0.350282 \n",
            " precision_Class1: 0.598639 \t precision_Class2: 0.504505 \t precision_Class3: 0.603896 \n",
            " recall_Class1 0.453608 \t recall_Class2 0.631579 \t recall_Class3 0.246684\n",
            "Epoch 6/30\n",
            "15130/15130 [==============================] - 197s 13ms/step - loss: 0.8027 - acc: 0.6236 - val_loss: 1.0297 - val_acc: 0.5498\n",
            " f1_score_Class1: 0.543893 \t f1_score_Class2: 0.493936 \t f1_score_Class3: 0.526385 \n",
            " precision_Class1: 0.611588 \t precision_Class2: 0.597333 \t precision_Class3: 0.523622 \n",
            " recall_Class1 0.489691 \t recall_Class2 0.421053 \t recall_Class3 0.529178\n",
            "Epoch 7/30\n",
            "15130/15130 [==============================] - 194s 13ms/step - loss: 0.7445 - acc: 0.6625 - val_loss: 1.0555 - val_acc: 0.5385\n",
            " f1_score_Class1: 0.542125 \t f1_score_Class2: 0.518744 \t f1_score_Class3: 0.440367 \n",
            " precision_Class1: 0.580392 \t precision_Class2: 0.562637 \t precision_Class3: 0.519856 \n",
            " recall_Class1 0.508591 \t recall_Class2 0.481203 \t recall_Class3 0.381963\n",
            "Epoch 8/30\n",
            "15130/15130 [==============================] - 197s 13ms/step - loss: 0.6732 - acc: 0.6984 - val_loss: 1.2004 - val_acc: 0.5139\n",
            " f1_score_Class1: 0.460710 \t f1_score_Class2: 0.498965 \t f1_score_Class3: 0.535359 \n",
            " precision_Class1: 0.616715 \t precision_Class2: 0.555300 \t precision_Class3: 0.478579 \n",
            " recall_Class1 0.367698 \t recall_Class2 0.453008 \t recall_Class3 0.607427\n",
            "Epoch 9/30\n",
            "15130/15130 [==============================] - 196s 13ms/step - loss: 0.6061 - acc: 0.7319 - val_loss: 1.2830 - val_acc: 0.5091\n",
            " f1_score_Class1: 0.541028 \t f1_score_Class2: 0.545156 \t f1_score_Class3: 0.392344 \n",
            " precision_Class1: 0.569260 \t precision_Class2: 0.483965 \t precision_Class3: 0.492000 \n",
            " recall_Class1 0.515464 \t recall_Class2 0.624060 \t recall_Class3 0.326260\n",
            "Epoch 10/30\n",
            "15130/15130 [==============================] - 196s 13ms/step - loss: 0.5332 - acc: 0.7693 - val_loss: 1.4878 - val_acc: 0.4973\n",
            " f1_score_Class1: 0.518727 \t f1_score_Class2: 0.523649 \t f1_score_Class3: 0.436155 \n",
            " precision_Class1: 0.569959 \t precision_Class2: 0.475460 \t precision_Class3: 0.475000 \n",
            " recall_Class1 0.475945 \t recall_Class2 0.582707 \t recall_Class3 0.403183\n",
            "Epoch 11/30\n",
            "15130/15130 [==============================] - 196s 13ms/step - loss: 0.4403 - acc: 0.8143 - val_loss: 1.6838 - val_acc: 0.5021\n",
            " f1_score_Class1: 0.554392 \t f1_score_Class2: 0.530822 \t f1_score_Class3: 0.377704 \n",
            " precision_Class1: 0.522003 \t precision_Class2: 0.487421 \t precision_Class3: 0.506696 \n",
            " recall_Class1 0.591065 \t recall_Class2 0.582707 \t recall_Class3 0.301061\n",
            "Epoch 12/30\n",
            "15130/15130 [==============================] - 195s 13ms/step - loss: 0.3567 - acc: 0.8558 - val_loss: 1.8503 - val_acc: 0.4877\n",
            " f1_score_Class1: 0.520295 \t f1_score_Class2: 0.522167 \t f1_score_Class3: 0.419591 \n",
            " precision_Class1: 0.561753 \t precision_Class2: 0.463557 \t precision_Class3: 0.467427 \n",
            " recall_Class1 0.484536 \t recall_Class2 0.597744 \t recall_Class3 0.380637\n",
            "Epoch 13/30\n",
            "15130/15130 [==============================] - 195s 13ms/step - loss: 0.3035 - acc: 0.8802 - val_loss: 2.2394 - val_acc: 0.4952\n",
            " f1_score_Class1: 0.562368 \t f1_score_Class2: 0.435597 \t f1_score_Class3: 0.456140 \n",
            " precision_Class1: 0.476703 \t precision_Class2: 0.577640 \t precision_Class3: 0.484352 \n",
            " recall_Class1 0.685567 \t recall_Class2 0.349624 \t recall_Class3 0.431034\n",
            "Epoch 14/30\n",
            "15130/15130 [==============================] - 194s 13ms/step - loss: 0.2470 - acc: 0.9032 - val_loss: 2.2948 - val_acc: 0.5032\n",
            " f1_score_Class1: 0.529055 \t f1_score_Class2: 0.470464 \t f1_score_Class3: 0.503704 \n",
            " precision_Class1: 0.534151 \t precision_Class2: 0.536058 \t precision_Class3: 0.471132 \n",
            " recall_Class1 0.524055 \t recall_Class2 0.419173 \t recall_Class3 0.541114\n",
            "Epoch 15/30\n",
            "15130/15130 [==============================] - 196s 13ms/step - loss: 0.2275 - acc: 0.9154 - val_loss: 2.0776 - val_acc: 0.4893\n",
            " f1_score_Class1: 0.519965 \t f1_score_Class2: 0.522766 \t f1_score_Class3: 0.417223 \n",
            " precision_Class1: 0.537615 \t precision_Class2: 0.474006 \t precision_Class3: 0.473862 \n",
            " recall_Class1 0.503436 \t recall_Class2 0.582707 \t recall_Class3 0.372679\n",
            "Epoch 16/30\n",
            "15130/15130 [==============================] - 196s 13ms/step - loss: 0.1787 - acc: 0.9343 - val_loss: 2.5969 - val_acc: 0.4898\n",
            " f1_score_Class1: 0.536197 \t f1_score_Class2: 0.398568 \t f1_score_Class3: 0.499695 \n",
            " precision_Class1: 0.499259 \t precision_Class2: 0.545752 \t precision_Class3: 0.463194 \n",
            " recall_Class1 0.579038 \t recall_Class2 0.313910 \t recall_Class3 0.542440\n",
            "Epoch 17/30\n",
            "15130/15130 [==============================] - 196s 13ms/step - loss: 0.1681 - acc: 0.9395 - val_loss: 2.7385 - val_acc: 0.5000\n",
            " f1_score_Class1: 0.535187 \t f1_score_Class2: 0.423208 \t f1_score_Class3: 0.515597 \n",
            " precision_Class1: 0.541301 \t precision_Class2: 0.536023 \t precision_Class3: 0.463492 \n",
            " recall_Class1 0.529210 \t recall_Class2 0.349624 \t recall_Class3 0.580902\n",
            "Epoch 18/30\n",
            "15130/15130 [==============================] - 198s 13ms/step - loss: 0.1388 - acc: 0.9498 - val_loss: 2.8411 - val_acc: 0.5016\n",
            " f1_score_Class1: 0.534824 \t f1_score_Class2: 0.425676 \t f1_score_Class3: 0.516091 \n",
            " precision_Class1: 0.535284 \t precision_Class2: 0.530899 \t precision_Class3: 0.468615 \n",
            " recall_Class1 0.534364 \t recall_Class2 0.355263 \t recall_Class3 0.574271\n",
            "Epoch 19/30\n",
            "15130/15130 [==============================] - 196s 13ms/step - loss: 0.1176 - acc: 0.9609 - val_loss: 2.7310 - val_acc: 0.4829\n",
            " f1_score_Class1: 0.503571 \t f1_score_Class2: 0.523810 \t f1_score_Class3: 0.425806 \n",
            " precision_Class1: 0.524164 \t precision_Class2: 0.478261 \t precision_Class3: 0.463339 \n",
            " recall_Class1 0.484536 \t recall_Class2 0.578947 \t recall_Class3 0.393899\n",
            "Epoch 20/30\n",
            "15130/15130 [==============================] - 197s 13ms/step - loss: 0.1252 - acc: 0.9573 - val_loss: 2.7972 - val_acc: 0.4984\n",
            " f1_score_Class1: 0.480307 \t f1_score_Class2: 0.500942 \t f1_score_Class3: 0.503410 \n",
            " precision_Class1: 0.544662 \t precision_Class2: 0.501887 \t precision_Class3: 0.472643 \n",
            " recall_Class1 0.429553 \t recall_Class2 0.500000 \t recall_Class3 0.538462\n",
            "Epoch 21/30\n",
            "15130/15130 [==============================] - 196s 13ms/step - loss: 0.1043 - acc: 0.9642 - val_loss: 3.4659 - val_acc: 0.4963\n",
            " f1_score_Class1: 0.523002 \t f1_score_Class2: 0.478781 \t f1_score_Class3: 0.483727 \n",
            " precision_Class1: 0.493151 \t precision_Class2: 0.568475 \t precision_Class3: 0.466175 \n",
            " recall_Class1 0.556701 \t recall_Class2 0.413534 \t recall_Class3 0.502653\n",
            "Epoch 22/30\n",
            "15130/15130 [==============================] - 197s 13ms/step - loss: 0.1069 - acc: 0.9625 - val_loss: 3.3139 - val_acc: 0.4995\n",
            " f1_score_Class1: 0.503509 \t f1_score_Class2: 0.507722 \t f1_score_Class3: 0.487742 \n",
            " precision_Class1: 0.514337 \t precision_Class2: 0.521825 \t precision_Class3: 0.474874 \n",
            " recall_Class1 0.493127 \t recall_Class2 0.494361 \t recall_Class3 0.501326\n",
            "Epoch 23/30\n",
            "15130/15130 [==============================] - 196s 13ms/step - loss: 0.0923 - acc: 0.9683 - val_loss: 3.4311 - val_acc: 0.4925\n",
            " f1_score_Class1: 0.489990 \t f1_score_Class2: 0.522046 \t f1_score_Class3: 0.469825 \n",
            " precision_Class1: 0.550321 \t precision_Class2: 0.491694 \t precision_Class3: 0.459975 \n",
            " recall_Class1 0.441581 \t recall_Class2 0.556391 \t recall_Class3 0.480106\n",
            "Epoch 24/30\n",
            "15130/15130 [==============================] - 197s 13ms/step - loss: 0.0970 - acc: 0.9681 - val_loss: 3.2448 - val_acc: 0.5059\n",
            " f1_score_Class1: 0.521441 \t f1_score_Class2: 0.505703 \t f1_score_Class3: 0.488326 \n",
            " precision_Class1: 0.520548 \t precision_Class2: 0.511538 \t precision_Class3: 0.491275 \n",
            " recall_Class1 0.522337 \t recall_Class2 0.500000 \t recall_Class3 0.485411\n",
            "Epoch 25/30\n",
            "15130/15130 [==============================] - 192s 13ms/step - loss: 0.0879 - acc: 0.9703 - val_loss: 3.1658 - val_acc: 0.4989\n",
            " f1_score_Class1: 0.546027 \t f1_score_Class2: 0.464171 \t f1_score_Class3: 0.479208 \n",
            " precision_Class1: 0.503628 \t precision_Class2: 0.538462 \t precision_Class3: 0.477004 \n",
            " recall_Class1 0.596220 \t recall_Class2 0.407895 \t recall_Class3 0.481432\n",
            "Epoch 26/30\n",
            "15130/15130 [==============================] - 189s 13ms/step - loss: 0.0751 - acc: 0.9748 - val_loss: 3.3398 - val_acc: 0.4898\n",
            " f1_score_Class1: 0.526908 \t f1_score_Class2: 0.471774 \t f1_score_Class3: 0.466847 \n",
            " precision_Class1: 0.494721 \t precision_Class2: 0.508696 \t precision_Class3: 0.476519 \n",
            " recall_Class1 0.563574 \t recall_Class2 0.439850 \t recall_Class3 0.457560\n",
            "Epoch 27/30\n",
            "15130/15130 [==============================] - 190s 13ms/step - loss: 0.0774 - acc: 0.9740 - val_loss: 3.3405 - val_acc: 0.5064\n",
            " f1_score_Class1: 0.499089 \t f1_score_Class2: 0.487179 \t f1_score_Class3: 0.519207 \n",
            " precision_Class1: 0.531008 \t precision_Class2: 0.512448 \t precision_Class3: 0.487209 \n",
            " recall_Class1 0.470790 \t recall_Class2 0.464286 \t recall_Class3 0.555703\n",
            "Epoch 28/30\n",
            "15130/15130 [==============================] - 191s 13ms/step - loss: 0.0651 - acc: 0.9773 - val_loss: 3.6720 - val_acc: 0.4930\n",
            " f1_score_Class1: 0.511754 \t f1_score_Class2: 0.526496 \t f1_score_Class3: 0.448156 \n",
            " precision_Class1: 0.540076 \t precision_Class2: 0.482759 \t precision_Class3: 0.471449 \n",
            " recall_Class1 0.486254 \t recall_Class2 0.578947 \t recall_Class3 0.427056\n",
            "Epoch 29/30\n",
            "15130/15130 [==============================] - 191s 13ms/step - loss: 0.0621 - acc: 0.9791 - val_loss: 3.8708 - val_acc: 0.5000\n",
            " f1_score_Class1: 0.484615 \t f1_score_Class2: 0.502857 \t f1_score_Class3: 0.507025 \n",
            " precision_Class1: 0.550218 \t precision_Class2: 0.509653 \t precision_Class3: 0.469989 \n",
            " recall_Class1 0.432990 \t recall_Class2 0.496241 \t recall_Class3 0.550398\n",
            "Epoch 30/30\n",
            "15130/15130 [==============================] - 190s 13ms/step - loss: 0.0586 - acc: 0.9820 - val_loss: 3.7356 - val_acc: 0.5048\n",
            " f1_score_Class1: 0.502762 \t f1_score_Class2: 0.457573 \t f1_score_Class3: 0.531542 \n",
            " precision_Class1: 0.541667 \t precision_Class2: 0.533835 \t precision_Class3: 0.474948 \n",
            " recall_Class1 0.469072 \t recall_Class2 0.400376 \t recall_Class3 0.603448\n"
          ],
          "name": "stdout"
        }
      ]
    },
    {
      "cell_type": "code",
      "metadata": {
        "id": "W24V5xa0zclP",
        "colab_type": "code",
        "colab": {
          "base_uri": "https://localhost:8080/",
          "height": 337
        },
        "outputId": "637a0667-a705-46a7-8525-455b57762eb9"
      },
      "source": [
        "import matplotlib.pyplot as plt \n",
        "%matplotlib inline \n",
        "\n",
        "plt.figure(figsize=(12,5)) \n",
        "plt.subplot(121) \n",
        "plt.plot(hist.history['loss'], label='loss') \n",
        "plt.plot(hist.history['val_loss'], label='val_loss') \n",
        "plt.legend() \n",
        "plt.subplot(122) \n",
        "plt.plot(hist.history['acc'], label='acc') \n",
        "plt.plot(hist.history['val_acc'], label='val_acc') \n",
        "plt.legend() "
      ],
      "execution_count": 12,
      "outputs": [
        {
          "output_type": "execute_result",
          "data": {
            "text/plain": [
              "<matplotlib.legend.Legend at 0x7fd362d14fd0>"
            ]
          },
          "metadata": {
            "tags": []
          },
          "execution_count": 12
        },
        {
          "output_type": "display_data",
          "data": {
            "image/png": "[encoded data removed]",
            "text/plain": [
              "<Figure size 864x360 with 2 Axes>"
            ]
          },
          "metadata": {
            "tags": []
          }
        }
      ]
    },
    {
      "cell_type": "code",
      "metadata": {
        "id": "hw4quUlbsYnR",
        "colab_type": "code",
        "colab": {}
      },
      "source": [
        ""
      ],
      "execution_count": 0,
      "outputs": []
    }
  ]
}