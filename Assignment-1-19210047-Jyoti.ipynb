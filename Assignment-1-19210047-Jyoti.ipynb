{
 "cells": [
  {
   "cell_type": "code",
   "execution_count": 2,
   "metadata": {},
   "outputs": [],
   "source": [
    "import pandas as pd"
   ]
  },
  {
   "cell_type": "code",
   "execution_count": 3,
   "metadata": {},
   "outputs": [
    {
     "data": {
      "text/html": [
       "<div>\n",
       "<style scoped>\n",
       "    .dataframe tbody tr th:only-of-type {\n",
       "        vertical-align: middle;\n",
       "    }\n",
       "\n",
       "    .dataframe tbody tr th {\n",
       "        vertical-align: top;\n",
       "    }\n",
       "\n",
       "    .dataframe thead th {\n",
       "        text-align: right;\n",
       "    }\n",
       "</style>\n",
       "<table border=\"1\" class=\"dataframe\">\n",
       "  <thead>\n",
       "    <tr style=\"text-align: right;\">\n",
       "      <th></th>\n",
       "      <th>Sentence</th>\n",
       "    </tr>\n",
       "  </thead>\n",
       "  <tbody>\n",
       "    <tr>\n",
       "      <th>0</th>\n",
       "      <td>@BubblyDentist @MeetUunngLee nahi nahi, mere s...</td>\n",
       "    </tr>\n",
       "    <tr>\n",
       "      <th>1</th>\n",
       "      <td>going to the grammys first entertainment law b...</td>\n",
       "    </tr>\n",
       "    <tr>\n",
       "      <th>2</th>\n",
       "      <td>bohot hi badiya ji aap sunao?</td>\n",
       "    </tr>\n",
       "    <tr>\n",
       "      <th>3</th>\n",
       "      <td>Parvez Musharraf is Digvijay Singh of Pakistan...</td>\n",
       "    </tr>\n",
       "    <tr>\n",
       "      <th>4</th>\n",
       "      <td>guddu ko bass john cena k sticker ki padii hai...</td>\n",
       "    </tr>\n",
       "  </tbody>\n",
       "</table>\n",
       "</div>"
      ],
      "text/plain": [
       "                                            Sentence\n",
       "0  @BubblyDentist @MeetUunngLee nahi nahi, mere s...\n",
       "1  going to the grammys first entertainment law b...\n",
       "2                      bohot hi badiya ji aap sunao?\n",
       "3  Parvez Musharraf is Digvijay Singh of Pakistan...\n",
       "4  guddu ko bass john cena k sticker ki padii hai..."
      ]
     },
     "execution_count": 3,
     "metadata": {},
     "output_type": "execute_result"
    }
   ],
   "source": [
    "#Reading the tweets dataset which is stored in comma-separated values (csv) format. \n",
    "#And seeing some initial values of the dataset\n",
    "text = pd.read_csv(\"../Assignment 1/tweets-dataset.csv\")\n",
    "text.head()"
   ]
  },
  {
   "cell_type": "code",
   "execution_count": 4,
   "metadata": {},
   "outputs": [
    {
     "name": "stderr",
     "output_type": "stream",
     "text": [
      "[nltk_data] Downloading package punkt to\n",
      "[nltk_data]     C:\\Users\\JYOTI\\AppData\\Roaming\\nltk_data...\n",
      "[nltk_data]   Package punkt is already up-to-date!\n"
     ]
    },
    {
     "data": {
      "text/plain": [
       "True"
      ]
     },
     "execution_count": 4,
     "metadata": {},
     "output_type": "execute_result"
    }
   ],
   "source": [
    "import nltk\n",
    "nltk.download('punkt')"
   ]
  },
  {
   "cell_type": "code",
   "execution_count": 5,
   "metadata": {},
   "outputs": [
    {
     "name": "stdout",
     "output_type": "stream",
     "text": [
      "Number of sentences:  24521\n"
     ]
    }
   ],
   "source": [
    "#Calculating the number of sentences in dataset\n",
    "lengthSen = len(text[\"Sentence\"])\n",
    "print(\"Number of sentences: \",lengthSen) "
   ]
  },
  {
   "cell_type": "code",
   "execution_count": 6,
   "metadata": {},
   "outputs": [
    {
     "name": "stdout",
     "output_type": "stream",
     "text": [
      "<class 'list'> \n",
      "Number of Tokens list: 24521\n",
      "Total number of Tokens:  396826\n"
     ]
    }
   ],
   "source": [
    "tokens = []\n",
    "\n",
    "#Breaking all the sentences of the dataset into tokens and appending it to a list named 'tokens'\n",
    "#Each sentence froms a list of tokens of it's own. And this list gets appended to 'tokens'\n",
    "#So 'tokens' is 2D list. It has rows = number of sentences in dataset. Each row contains a list of token of that sentence.\n",
    "for i in range(lengthSen):\n",
    "    tokens.append(nltk.word_tokenize(text[\"Sentence\"][i]))\n",
    "\n",
    "print(type(tokens), '\\nNumber of Tokens list:', len(tokens))\n",
    "\n",
    "totalTokens = 0\n",
    "\n",
    "#Total number of tokens is equal to summation of all tokens from each sentence\n",
    "for j in range(lengthSen):\n",
    "    totalTokens += len(tokens[j])\n",
    "    \n",
    "print(\"Total number of Tokens: \", totalTokens)"
   ]
  },
  {
   "cell_type": "code",
   "execution_count": 7,
   "metadata": {},
   "outputs": [
    {
     "data": {
      "text/plain": [
       "[['@',\n",
       "  'BubblyDentist',\n",
       "  '@',\n",
       "  'MeetUunngLee',\n",
       "  'nahi',\n",
       "  'nahi',\n",
       "  ',',\n",
       "  'mere',\n",
       "  'saath',\n",
       "  'jaakar',\n",
       "  'pachtaogi',\n",
       "  '.',\n",
       "  'Ye',\n",
       "  'Uunnglee',\n",
       "  'is',\n",
       "  'the',\n",
       "  'best',\n",
       "  '.',\n",
       "  'All',\n",
       "  'girls',\n",
       "  'say',\n",
       "  'that'],\n",
       " ['going',\n",
       "  'to',\n",
       "  'the',\n",
       "  'grammys',\n",
       "  'first',\n",
       "  'entertainment',\n",
       "  'law',\n",
       "  'breakfast',\n",
       "  'here',\n",
       "  'in',\n",
       "  'nyc',\n",
       "  'tomorrow',\n",
       "  '!',\n",
       "  'i',\n",
       "  \"'m\",\n",
       "  'so',\n",
       "  'excited',\n",
       "  '.',\n",
       "  'one',\n",
       "  'step',\n",
       "  'closer',\n",
       "  '.',\n",
       "  '.',\n",
       "  '.'],\n",
       " ['bohot', 'hi', 'badiya', 'ji', 'aap', 'sunao', '?'],\n",
       " ['Parvez',\n",
       "  'Musharraf',\n",
       "  'is',\n",
       "  'Digvijay',\n",
       "  'Singh',\n",
       "  'of',\n",
       "  'Pakistanhttps',\n",
       "  ':',\n",
       "  '//twitter.com/IndiaToday/status/599994321610285058',\n",
       "  '…'],\n",
       " ['guddu',\n",
       "  'ko',\n",
       "  'bass',\n",
       "  'john',\n",
       "  'cena',\n",
       "  'k',\n",
       "  'sticker',\n",
       "  'ki',\n",
       "  'padii',\n",
       "  'hai',\n",
       "  ':',\n",
       "  'd',\n",
       "  ':',\n",
       "  'd']]"
      ]
     },
     "execution_count": 7,
     "metadata": {},
     "output_type": "execute_result"
    }
   ],
   "source": [
    "#Lets see first 5 values to token\n",
    "tokens[:5]"
   ]
  },
  {
   "cell_type": "code",
   "execution_count": 8,
   "metadata": {},
   "outputs": [],
   "source": [
    "from nltk.stem import PorterStemmer\n",
    "stemmer = PorterStemmer()\n",
    "\n",
    "stem_token=[]\n",
    "\n",
    "#stemming is done to reduce the word to it's root form\n",
    "#Reducing all the tokens to its root form\n",
    "for i in range(lengthSen):\n",
    "    for token in tokens[i]:\n",
    "        stem_token.append(stemmer.stem(token))   "
   ]
  },
  {
   "cell_type": "code",
   "execution_count": 9,
   "metadata": {},
   "outputs": [
    {
     "data": {
      "text/plain": [
       "['@',\n",
       " 'bubblydentist',\n",
       " '@',\n",
       " 'meetuunngle',\n",
       " 'nahi',\n",
       " 'nahi',\n",
       " ',',\n",
       " 'mere',\n",
       " 'saath',\n",
       " 'jaakar']"
      ]
     },
     "execution_count": 9,
     "metadata": {},
     "output_type": "execute_result"
    }
   ],
   "source": [
    "#Lets see root word for first 10 token\n",
    "stem_token[:10]"
   ]
  },
  {
   "cell_type": "code",
   "execution_count": 10,
   "metadata": {},
   "outputs": [
    {
     "name": "stderr",
     "output_type": "stream",
     "text": [
      "[nltk_data] Downloading package wordnet to\n",
      "[nltk_data]     C:\\Users\\JYOTI\\AppData\\Roaming\\nltk_data...\n",
      "[nltk_data]   Package wordnet is already up-to-date!\n"
     ]
    }
   ],
   "source": [
    "from nltk.stem.wordnet import WordNetLemmatizer\n",
    "nltk.download('wordnet')\n",
    "\n",
    "#Lemmatizer groups together different inflected forms of a word\n",
    "#Using Word Net Lemmatizer\n",
    "lemmatizer = WordNetLemmatizer()"
   ]
  },
  {
   "cell_type": "code",
   "execution_count": 11,
   "metadata": {},
   "outputs": [],
   "source": [
    "lemma_token=[]\n",
    "\n",
    "#grouping all the stem words\n",
    "for stem in stem_token:\n",
    "    lemma_token.append(lemmatizer.lemmatize(stem))"
   ]
  },
  {
   "cell_type": "code",
   "execution_count": 12,
   "metadata": {},
   "outputs": [
    {
     "data": {
      "text/plain": [
       "['pachtaogi', '.', 'Ye', 'uunngle', 'is', 'the', 'best', '.', 'all', 'girl']"
      ]
     },
     "execution_count": 12,
     "metadata": {},
     "output_type": "execute_result"
    }
   ],
   "source": [
    "#Lets see some stem words\n",
    "lemma_token[10:20]"
   ]
  },
  {
   "cell_type": "code",
   "execution_count": 13,
   "metadata": {},
   "outputs": [
    {
     "name": "stdout",
     "output_type": "stream",
     "text": [
      "Number of unique words:  39482\n"
     ]
    }
   ],
   "source": [
    "from nltk.probability import FreqDist\n",
    "\n",
    "#Calculating the frequency distribution of lemmas. This gives us the number of type of words in dataset\n",
    "frequency = sorted(FreqDist(lemma_token).items(),key=lambda k:k[1], reverse=True)\n",
    "types = len(frequency)\n",
    "print(\"Number of unique words: \", types)"
   ]
  },
  {
   "cell_type": "code",
   "execution_count": 14,
   "metadata": {},
   "outputs": [
    {
     "data": {
      "text/plain": [
       "[('aaj', 873),\n",
       " ('(', 872),\n",
       " ('raha', 849),\n",
       " ('thi', 826),\n",
       " ('par', 816),\n",
       " ('aap', 804),\n",
       " ('hain', 804),\n",
       " ('kuch', 797),\n",
       " ('koi', 796),\n",
       " ('ne', 795)]"
      ]
     },
     "execution_count": 14,
     "metadata": {},
     "output_type": "execute_result"
    }
   ],
   "source": [
    "#frquency is a list of tuples (<stem word>, <occurrences>)\n",
    "#Some frequencies\n",
    "frequency[50:60]"
   ]
  },
  {
   "cell_type": "code",
   "execution_count": 15,
   "metadata": {},
   "outputs": [
    {
     "name": "stdout",
     "output_type": "stream",
     "text": [
      "Type-Token Ratio:  0.09949448876837708\n"
     ]
    }
   ],
   "source": [
    "#TTR is type-token ratio\n",
    "#TTR is calculated by total number of unique words (type) divided by total number of words in the data (totalTokens)\n",
    "TTR = types/totalTokens\n",
    "print(\"Type-Token Ratio: \", TTR)"
   ]
  },
  {
   "cell_type": "code",
   "execution_count": 16,
   "metadata": {},
   "outputs": [
    {
     "data": {
      "text/plain": [
       "\"Zipf's law states that given some corpus of natural language utterances, the frequency of any word is inversely proportional to its rank in the frequency table.\""
      ]
     },
     "execution_count": 16,
     "metadata": {},
     "output_type": "execute_result"
    }
   ],
   "source": [
    "#Zipf’s Law\n",
    "'''Zipf's law states that given some corpus of natural language utterances, the frequency of any word is inversely proportional to its rank in the frequency table.'''"
   ]
  },
  {
   "cell_type": "code",
   "execution_count": 17,
   "metadata": {},
   "outputs": [],
   "source": [
    "word_count = []\n",
    "\n",
    "#Storing the value of some random frequencies, say in the frequency table from 100 to 150, i.e., 50 frequencie\n",
    "for i in range(100, 150):\n",
    "    word_count.append(frequency[i][1])"
   ]
  },
  {
   "cell_type": "code",
   "execution_count": 18,
   "metadata": {},
   "outputs": [],
   "source": [
    "import matplotlib.pyplot as plt"
   ]
  },
  {
   "cell_type": "code",
   "execution_count": 19,
   "metadata": {},
   "outputs": [
    {
     "data": {
      "image/png": "[encoded data removed]",
      "text/plain": [
       "<Figure size 432x288 with 1 Axes>"
      ]
     },
     "metadata": {
      "needs_background": "light"
     },
     "output_type": "display_data"
    }
   ],
   "source": [
    "#Ploting the frequencies on linear scale\n",
    "plt.plot(sorted(word_count, reverse = True), marker = \"o\")\n",
    "plt.xscale(\"linear\")\n",
    "plt.yscale(\"linear\")\n",
    "plt.xlabel(\"Rank\")\n",
    "plt.ylabel(\"Frequency\")\n",
    "plt.show()"
   ]
  },
  {
   "cell_type": "code",
   "execution_count": 20,
   "metadata": {},
   "outputs": [
    {
     "data": {
      "image/png": "[encoded data removed]",
      "text/plain": [
       "<Figure size 432x288 with 1 Axes>"
      ]
     },
     "metadata": {
      "needs_background": "light"
     },
     "output_type": "display_data"
    }
   ],
   "source": [
    "#Ploting the frequencies on logarithmic scale\n",
    "plt.plot(sorted(word_count, reverse = True), marker = \"o\")\n",
    "plt.xscale(\"log\")\n",
    "plt.yscale(\"log\")\n",
    "plt.xlabel(\"Log(Rank)\")\n",
    "plt.ylabel(\"Log(Frequency)\")\n",
    "plt.show()"
   ]
  },
  {
   "cell_type": "code",
   "execution_count": 21,
   "metadata": {},
   "outputs": [
    {
     "data": {
      "text/plain": [
       "\"Heaps' law (also called Herdan's law) is an empirical law which describes the number of distinct words in a document (or set of documents) as a function of the document length (so called type-token relation).\""
      ]
     },
     "execution_count": 21,
     "metadata": {},
     "output_type": "execute_result"
    }
   ],
   "source": [
    "#Heaps’s Law\n",
    "'''Heaps' law (also called Herdan's law) is an empirical law which describes the number of distinct words in a document (or set of documents) as a function of the document length (so called type-token relation).'''"
   ]
  },
  {
   "cell_type": "code",
   "execution_count": 22,
   "metadata": {},
   "outputs": [
    {
     "data": {
      "image/png": "[encoded data removed]",
      "text/plain": [
       "<Figure size 432x288 with 1 Axes>"
      ]
     },
     "metadata": {
      "needs_background": "light"
     },
     "output_type": "display_data"
    }
   ],
   "source": [
    "#For whole dataset we count the words that occur and whether they contribute to dictionary of words\n",
    "x = []\n",
    "count = 0\n",
    "rememberWord = []\n",
    "for l in lemma_token:\n",
    "    if l not in rememberWord:\n",
    "        rememberWord.append(l)\n",
    "        count += 1\n",
    "    x.append(count)\n",
    "    \n",
    "#Ploting the graph for the Heaps law\n",
    "plt.plot(x, marker = \"o\")\n",
    "plt.xscale(\"linear\")\n",
    "plt.yscale(\"linear\")\n",
    "plt.xlabel(\"Document Length\")\n",
    "plt.ylabel(\"Distinct Words in Document\")\n",
    "plt.show()"
   ]
  },
  {
   "cell_type": "code",
   "execution_count": null,
   "metadata": {},
   "outputs": [],
   "source": []
  }
 ],
 "metadata": {
  "kernelspec": {
   "display_name": "Python 3",
   "language": "python",
   "name": "python3"
  },
  "language_info": {
   "codemirror_mode": {
    "name": "ipython",
    "version": 3
   },
   "file_extension": ".py",
   "mimetype": "text/x-python",
   "name": "python",
   "nbconvert_exporter": "python",
   "pygments_lexer": "ipython3",
   "version": "3.7.3"
  }
 },
 "nbformat": 4,
 "nbformat_minor": 2
}
